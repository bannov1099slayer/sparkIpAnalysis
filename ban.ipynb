{
  "nbformat": 4,
  "nbformat_minor": 0,
  "metadata": {
    "colab": {
      "provenance": []
    },
    "kernelspec": {
      "name": "python3",
      "display_name": "Python 3"
    },
    "language_info": {
      "name": "python"
    }
  },
  "cells": [
    {
      "cell_type": "code",
      "execution_count": null,
      "metadata": {
        "colab": {
          "base_uri": "https://localhost:8080/"
        },
        "id": "WF2qD3CqWylN",
        "outputId": "a49a377b-4d04-4685-b572-6590ed89e428"
      },
      "outputs": [
        {
          "output_type": "stream",
          "name": "stdout",
          "text": [
            "Collecting faker\n",
            "  Downloading faker-37.5.3-py3-none-any.whl.metadata (15 kB)\n",
            "Requirement already satisfied: tzdata in /usr/local/lib/python3.11/dist-packages (from faker) (2025.2)\n",
            "Downloading faker-37.5.3-py3-none-any.whl (1.9 MB)\n",
            "\u001b[?25l   \u001b[90m━━━━━━━━━━━━━━━━━━━━━━━━━━━━━━━━━━━━━━━━\u001b[0m \u001b[32m0.0/1.9 MB\u001b[0m \u001b[31m?\u001b[0m eta \u001b[36m-:--:--\u001b[0m\r\u001b[2K   \u001b[91m━━━━\u001b[0m\u001b[91m╸\u001b[0m\u001b[90m━━━━━━━━━━━━━━━━━━━━━━━━━━━━━━━━━━━\u001b[0m \u001b[32m0.2/1.9 MB\u001b[0m \u001b[31m7.0 MB/s\u001b[0m eta \u001b[36m0:00:01\u001b[0m\r\u001b[2K   \u001b[91m━━━━━━━━━━━━━━━━━━━━━━━━━━━━━━━━━━━━━━━\u001b[0m\u001b[91m╸\u001b[0m \u001b[32m1.9/1.9 MB\u001b[0m \u001b[31m29.0 MB/s\u001b[0m eta \u001b[36m0:00:01\u001b[0m\r\u001b[2K   \u001b[90m━━━━━━━━━━━━━━━━━━━━━━━━━━━━━━━━━━━━━━━━\u001b[0m \u001b[32m1.9/1.9 MB\u001b[0m \u001b[31m23.5 MB/s\u001b[0m eta \u001b[36m0:00:00\u001b[0m\n",
            "\u001b[?25hInstalling collected packages: faker\n",
            "Successfully installed faker-37.5.3\n"
          ]
        }
      ],
      "source": [
        "!pip install faker"
      ]
    },
    {
      "cell_type": "code",
      "source": [
        "!pip install pyspark py4j"
      ],
      "metadata": {
        "colab": {
          "base_uri": "https://localhost:8080/"
        },
        "id": "d8r7fZSfYVSR",
        "outputId": "de64e366-9c22-45fe-b708-4e26c5f46b7d"
      },
      "execution_count": null,
      "outputs": [
        {
          "output_type": "stream",
          "name": "stdout",
          "text": [
            "Requirement already satisfied: pyspark in /usr/local/lib/python3.11/dist-packages (3.5.1)\n",
            "Requirement already satisfied: py4j in /usr/local/lib/python3.11/dist-packages (0.10.9.7)\n"
          ]
        }
      ]
    },
    {
      "cell_type": "code",
      "source": [
        "import csv\n",
        "from faker import Faker\n",
        "import random\n",
        "\n",
        "fake = Faker()\n",
        "\n",
        "num_records = 100000\n",
        "\n",
        "http_methods = ['GET', 'POST', 'PUT', 'DELETE']\n",
        "response_codes = [200, 301, 404, 500]\n",
        "\n",
        "file_path = \"web_server_logs.csv\"\n",
        "\n",
        "with open(file_path, mode='w', newline='') as file:\n",
        "    writer = csv.writer(file)\n",
        "    writer.writerow(['ip', 'timestamp', 'method', 'url', 'response_code', 'response_size'])\n",
        "\n",
        "    for _ in range(num_records):\n",
        "        ip = fake.ipv4()\n",
        "        timestamp = fake.date_time_this_year().isoformat()\n",
        "        method = random.choice(http_methods)\n",
        "        url = fake.uri_path()\n",
        "        response_code = random.choice(response_codes)\n",
        "        response_size = random.randint(100, 10000)\n",
        "\n",
        "        writer.writerow([ip, timestamp, method, url, response_code, response_size])\n",
        "\n",
        "print(f\"Сгенерировано {num_records} записей и сохранено в {file_path}\")"
      ],
      "metadata": {
        "colab": {
          "base_uri": "https://localhost:8080/"
        },
        "id": "Vc0ssL-hYalw",
        "outputId": "77045ac6-d0f6-41ee-a0a2-3889213be4be"
      },
      "execution_count": null,
      "outputs": [
        {
          "output_type": "stream",
          "name": "stdout",
          "text": [
            "Сгенерировано 100000 записей и сохранено в web_server_logs.csv\n"
          ]
        }
      ]
    },
    {
      "cell_type": "code",
      "source": [
        "from pyspark.sql import SparkSession\n",
        "\n",
        "from pyspark.sql.functions import col, to_date, mean, month, year, when\n",
        "\n",
        "# Создание SparkSession\n",
        "\n",
        "spark = SparkSession.builder.appName(\"IpAnalysis\").getOrCreate()\n",
        "\n",
        "# Чтение данных\n",
        "\n",
        "web_server_df = spark.read.csv(\"web_server_logs.csv\", header=True, inferSchema=True)"
      ],
      "metadata": {
        "id": "xGHcmsbaYshW"
      },
      "execution_count": null,
      "outputs": []
    },
    {
      "cell_type": "code",
      "source": [
        "web_server_df.show(20)"
      ],
      "metadata": {
        "colab": {
          "base_uri": "https://localhost:8080/"
        },
        "id": "G8UYx7ouZocJ",
        "outputId": "ef6f6cb0-5ba4-4950-ca3e-a05e08cdb8fa"
      },
      "execution_count": null,
      "outputs": [
        {
          "output_type": "stream",
          "name": "stdout",
          "text": [
            "+---------------+--------------------+------+--------------------+-------------+-------------+\n",
            "|             ip|           timestamp|method|                 url|response_code|response_size|\n",
            "+---------------+--------------------+------+--------------------+-------------+-------------+\n",
            "|  11.185.21.101|2025-03-26 14:00:...|   GET|    posts/wp-content|          500|         1574|\n",
            "| 138.235.45.152|2025-05-25 19:58:...|DELETE|      app/categories|          301|         9196|\n",
            "|   44.2.143.194|2025-08-03 21:33:...|DELETE|       list/category|          500|         8377|\n",
            "|112.105.205.192|2025-02-03 16:47:...|   GET|           blog/main|          404|         7445|\n",
            "|167.197.204.253|2025-04-08 23:53:...|  POST|   wp-content/search|          200|         3261|\n",
            "|  87.235.105.19|2025-08-02 17:56:...|   PUT|      blog/main/tags|          301|         4350|\n",
            "|  89.186.176.11|2025-03-02 08:53:...|  POST|    category/explore|          301|         6818|\n",
            "|  211.72.252.42|2025-04-28 22:32:...|  POST|wp-content/search...|          500|         8421|\n",
            "| 32.158.210.136|2025-05-22 17:05:...|  POST|          wp-content|          200|         2025|\n",
            "| 84.128.233.249|2025-02-03 17:12:...|  POST|          categories|          404|         6362|\n",
            "|    1.189.94.92|2025-08-01 16:28:...|  POST|            app/blog|          200|         9555|\n",
            "|  148.46.106.88|2025-02-21 03:44:...|   PUT|    posts/wp-content|          200|          733|\n",
            "| 69.185.251.120|2025-01-15 23:14:...|   GET|           list/tags|          200|         5270|\n",
            "|    2.85.105.25|2025-06-13 04:03:...|   PUT|        category/tag|          500|         8879|\n",
            "|212.180.168.202|2025-06-09 09:18:...|   PUT|            category|          404|         5101|\n",
            "|  159.71.55.110|2025-06-15 13:16:...|   GET|          posts/list|          301|          192|\n",
            "|  25.252.105.66|2025-07-02 16:43:...|  POST|  categories/explore|          200|         2144|\n",
            "|    64.188.4.91|2025-05-30 20:02:...|   PUT|         posts/posts|          500|         6003|\n",
            "|   26.63.114.32|2025-07-03 04:18:...|   PUT|main/posts/wp-con...|          404|         2932|\n",
            "|  38.132.24.223|2025-07-02 04:33:...|DELETE|  main/blog/category|          404|         4718|\n",
            "+---------------+--------------------+------+--------------------+-------------+-------------+\n",
            "only showing top 20 rows\n",
            "\n"
          ]
        }
      ]
    },
    {
      "cell_type": "code",
      "source": [
        "# Регистрация DataFrame\n",
        "web_server_df.createOrReplaceTempView(\"logs\")\n",
        "\n",
        "# Задание:\n",
        "# Сгруппируйте данные по IP и посчитайте количество запросов для каждого IP, выводим 10 самых активных IP\n",
        "z_df = spark.sql(\"\"\"\n",
        "SELECT ip,(COUNT(*)) AS request_count\n",
        "FROM logs\n",
        "GROUP BY ip\n",
        "ORDER BY request_count DESC\n",
        "\"\"\")\n",
        "\n",
        "print('Top 10 active IP addresses:')\n",
        "# Показ результатов\n",
        "z_df.show(10)"
      ],
      "metadata": {
        "colab": {
          "base_uri": "https://localhost:8080/"
        },
        "id": "UBCxNmVbZ3am",
        "outputId": "3ed548dd-212c-4ae4-f504-d51ec363b96a"
      },
      "execution_count": null,
      "outputs": [
        {
          "output_type": "stream",
          "name": "stdout",
          "text": [
            "Top 10 active IP addresses:\n",
            "+---------------+-------------+\n",
            "|             ip|request_count|\n",
            "+---------------+-------------+\n",
            "|158.109.166.156|            2|\n",
            "|    12.81.3.193|            1|\n",
            "|172.156.127.165|            1|\n",
            "|   33.38.202.82|            1|\n",
            "| 121.109.40.230|            1|\n",
            "| 74.189.115.159|            1|\n",
            "|  218.62.156.51|            1|\n",
            "|  73.67.162.196|            1|\n",
            "|  51.245.82.101|            1|\n",
            "|  149.92.35.243|            1|\n",
            "+---------------+-------------+\n",
            "only showing top 10 rows\n",
            "\n"
          ]
        }
      ]
    },
    {
      "cell_type": "code",
      "source": [
        "# Задание:\n",
        "# Сгруппируйте данные по HTTP-методу и посчитайте количество запросов для каждого метода.\n",
        "http_df = spark.sql(\"\"\"\n",
        "SELECT method,(COUNT(*)) AS method_count\n",
        "FROM logs\n",
        "GROUP BY method\n",
        "ORDER BY method_count DESC\n",
        "\"\"\")\n",
        "\n",
        "print('Request count by HTTP method:')\n",
        "# Показ результатов\n",
        "http_df.show()\n"
      ],
      "metadata": {
        "colab": {
          "base_uri": "https://localhost:8080/"
        },
        "id": "8M65mC3DdKIZ",
        "outputId": "b8bfad57-b0a3-495b-ed71-35b4f00affce"
      },
      "execution_count": null,
      "outputs": [
        {
          "output_type": "stream",
          "name": "stdout",
          "text": [
            "Request count by HTTP method:\n",
            "+------+------------+\n",
            "|method|method_count|\n",
            "+------+------------+\n",
            "|   PUT|       25301|\n",
            "|  POST|       25100|\n",
            "|   GET|       24846|\n",
            "|DELETE|       24753|\n",
            "+------+------------+\n",
            "\n"
          ]
        }
      ]
    },
    {
      "cell_type": "code",
      "source": [
        "# Задание:\n",
        "#Профильтруйте и посчитайте количество запросов с кодом ответа 404.\n",
        "req1_df = spark.sql(\"\"\"\n",
        "SELECT (COUNT(*)) AS response_count\n",
        "FROM logs\n",
        "WHERE response_code = 404\n",
        "\"\"\")\n",
        "\n",
        "response_count = req1_df.first()['response_count']\n",
        "\n",
        "print('Number of 404 response code:',response_count)\n"
      ],
      "metadata": {
        "colab": {
          "base_uri": "https://localhost:8080/"
        },
        "id": "_nPDQZk9dNnR",
        "outputId": "1dc4d346-33d5-4890-a44b-ba04b277f4cd"
      },
      "execution_count": null,
      "outputs": [
        {
          "output_type": "stream",
          "name": "stdout",
          "text": [
            "Number of 404 response code: 25073\n"
          ]
        }
      ]
    },
    {
      "cell_type": "code",
      "source": [
        "# Задание:\n",
        "#Сгруппируйте данные по дате и просуммируйте размер ответов, сортируйте по дате.\n",
        "\n",
        "data_df = spark.sql(\"\"\"\n",
        "SELECT DATE(timestamp) AS date,(SUM(response_size)) AS total_response_size\n",
        "FROM logs\n",
        "GROUP BY DATE(timestamp)\n",
        "ORDER BY date ASC\n",
        "\"\"\")\n",
        "\n",
        "print('Total response size by day:')\n",
        "# Показ результатов\n",
        "data_df.show()\n"
      ],
      "metadata": {
        "colab": {
          "base_uri": "https://localhost:8080/"
        },
        "id": "554JRQLbgkMn",
        "outputId": "541054f9-9344-4944-86fc-04a439d038bc"
      },
      "execution_count": 27,
      "outputs": [
        {
          "output_type": "stream",
          "name": "stdout",
          "text": [
            "Total response size by day:\n",
            "+----------+-------------------+\n",
            "|      date|total_response_size|\n",
            "+----------+-------------------+\n",
            "|2025-01-01|            2393342|\n",
            "|2025-01-02|            2256660|\n",
            "|2025-01-03|            2243011|\n",
            "|2025-01-04|            2445623|\n",
            "|2025-01-05|            2244198|\n",
            "|2025-01-06|            2143094|\n",
            "|2025-01-07|            2267350|\n",
            "|2025-01-08|            2415279|\n",
            "|2025-01-09|            2116010|\n",
            "|2025-01-10|            2279789|\n",
            "|2025-01-11|            2321200|\n",
            "|2025-01-12|            2531599|\n",
            "|2025-01-13|            2579026|\n",
            "|2025-01-14|            2303737|\n",
            "|2025-01-15|            2132195|\n",
            "|2025-01-16|            2198705|\n",
            "|2025-01-17|            2210819|\n",
            "|2025-01-18|            2182767|\n",
            "|2025-01-19|            2208834|\n",
            "|2025-01-20|            2069093|\n",
            "+----------+-------------------+\n",
            "only showing top 20 rows\n",
            "\n"
          ]
        }
      ]
    },
    {
      "cell_type": "code",
      "source": [],
      "metadata": {
        "id": "SsIdF1IBgmlp"
      },
      "execution_count": null,
      "outputs": []
    }
  ]
}