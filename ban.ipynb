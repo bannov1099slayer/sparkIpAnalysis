{
  "cells": [
    {
      "cell_type": "code",
      "execution_count": null,
      "metadata": {
        "id": "xGHcmsbaYshW"
      },
      "outputs": [],
      "source": [
        "from pyspark.sql import SparkSession\n",
        "\n",
        "from pyspark.sql.functions import col, to_date, mean, month, year, when\n",
        "\n",
        "# Создание SparkSession\n",
        "\n",
        "spark = SparkSession.builder.appName(\"IpAnalysis\").getOrCreate()\n",
        "\n",
        "# Чтение данных\n",
        "\n",
        "web_server_df = spark.read.csv(\"web_server_logs.csv\", header=True, inferSchema=True)"
      ]
    },
    {
      "cell_type": "code",
      "execution_count": null,
      "metadata": {
        "colab": {
          "base_uri": "https://localhost:8080/"
        },
        "id": "UBCxNmVbZ3am",
        "outputId": "3ed548dd-212c-4ae4-f504-d51ec363b96a"
      },
      "outputs": [
        {
          "name": "stdout",
          "output_type": "stream",
          "text": [
            "Top 10 active IP addresses:\n",
            "+---------------+-------------+\n",
            "|             ip|request_count|\n",
            "+---------------+-------------+\n",
            "|158.109.166.156|            2|\n",
            "|    12.81.3.193|            1|\n",
            "|172.156.127.165|            1|\n",
            "|   33.38.202.82|            1|\n",
            "| 121.109.40.230|            1|\n",
            "| 74.189.115.159|            1|\n",
            "|  218.62.156.51|            1|\n",
            "|  73.67.162.196|            1|\n",
            "|  51.245.82.101|            1|\n",
            "|  149.92.35.243|            1|\n",
            "+---------------+-------------+\n",
            "only showing top 10 rows\n",
            "\n"
          ]
        }
      ],
      "source": [
        "# Регистрация DataFrame\n",
        "web_server_df.createOrReplaceTempView(\"logs\")\n",
        "\n",
        "# Задание:\n",
        "# Сгруппируйте данные по IP и посчитайте количество запросов для каждого IP, выводим 10 самых активных IP\n",
        "z_df = spark.sql(\"\"\"\n",
        "SELECT ip,(COUNT(*)) AS request_count\n",
        "FROM logs\n",
        "GROUP BY ip\n",
        "ORDER BY request_count DESC\n",
        "\"\"\")\n",
        "\n",
        "print('Top 10 active IP addresses:')\n",
        "# Показ результатов\n",
        "z_df.show(10)"
      ]
    },
    {
      "cell_type": "code",
      "execution_count": null,
      "metadata": {
        "colab": {
          "base_uri": "https://localhost:8080/"
        },
        "id": "8M65mC3DdKIZ",
        "outputId": "b8bfad57-b0a3-495b-ed71-35b4f00affce"
      },
      "outputs": [
        {
          "name": "stdout",
          "output_type": "stream",
          "text": [
            "Request count by HTTP method:\n",
            "+------+------------+\n",
            "|method|method_count|\n",
            "+------+------------+\n",
            "|   PUT|       25301|\n",
            "|  POST|       25100|\n",
            "|   GET|       24846|\n",
            "|DELETE|       24753|\n",
            "+------+------------+\n",
            "\n"
          ]
        }
      ],
      "source": [
        "# Задание:\n",
        "# Сгруппируйте данные по HTTP-методу и посчитайте количество запросов для каждого метода.\n",
        "http_df = spark.sql(\"\"\"\n",
        "SELECT method,(COUNT(*)) AS method_count\n",
        "FROM logs\n",
        "GROUP BY method\n",
        "ORDER BY method_count DESC\n",
        "\"\"\")\n",
        "\n",
        "print('Request count by HTTP method:')\n",
        "# Показ результатов\n",
        "http_df.show()\n"
      ]
    },
    {
      "cell_type": "code",
      "execution_count": null,
      "metadata": {
        "colab": {
          "base_uri": "https://localhost:8080/"
        },
        "id": "_nPDQZk9dNnR",
        "outputId": "1dc4d346-33d5-4890-a44b-ba04b277f4cd"
      },
      "outputs": [
        {
          "name": "stdout",
          "output_type": "stream",
          "text": [
            "Number of 404 response code: 25073\n"
          ]
        }
      ],
      "source": [
        "# Задание:\n",
        "#Профильтруйте и посчитайте количество запросов с кодом ответа 404.\n",
        "req1_df = spark.sql(\"\"\"\n",
        "SELECT (COUNT(*)) AS response_count\n",
        "FROM logs\n",
        "WHERE response_code = 404\n",
        "\"\"\")\n",
        "\n",
        "response_count = req1_df.first()['response_count']\n",
        "\n",
        "print('Number of 404 response code:',response_count)\n"
      ]
    },
    {
      "cell_type": "code",
      "execution_count": 27,
      "metadata": {
        "colab": {
          "base_uri": "https://localhost:8080/"
        },
        "id": "554JRQLbgkMn",
        "outputId": "541054f9-9344-4944-86fc-04a439d038bc"
      },
      "outputs": [
        {
          "name": "stdout",
          "output_type": "stream",
          "text": [
            "Total response size by day:\n",
            "+----------+-------------------+\n",
            "|      date|total_response_size|\n",
            "+----------+-------------------+\n",
            "|2025-01-01|            2393342|\n",
            "|2025-01-02|            2256660|\n",
            "|2025-01-03|            2243011|\n",
            "|2025-01-04|            2445623|\n",
            "|2025-01-05|            2244198|\n",
            "|2025-01-06|            2143094|\n",
            "|2025-01-07|            2267350|\n",
            "|2025-01-08|            2415279|\n",
            "|2025-01-09|            2116010|\n",
            "|2025-01-10|            2279789|\n",
            "|2025-01-11|            2321200|\n",
            "|2025-01-12|            2531599|\n",
            "|2025-01-13|            2579026|\n",
            "|2025-01-14|            2303737|\n",
            "|2025-01-15|            2132195|\n",
            "|2025-01-16|            2198705|\n",
            "|2025-01-17|            2210819|\n",
            "|2025-01-18|            2182767|\n",
            "|2025-01-19|            2208834|\n",
            "|2025-01-20|            2069093|\n",
            "+----------+-------------------+\n",
            "only showing top 20 rows\n",
            "\n"
          ]
        }
      ],
      "source": [
        "# Задание:\n",
        "#Сгруппируйте данные по дате и просуммируйте размер ответов, сортируйте по дате.\n",
        "\n",
        "data_df = spark.sql(\"\"\"\n",
        "SELECT DATE(timestamp) AS date,(SUM(response_size)) AS total_response_size\n",
        "FROM logs\n",
        "GROUP BY DATE(timestamp)\n",
        "ORDER BY date ASC\n",
        "\"\"\")\n",
        "\n",
        "print('Total response size by day:')\n",
        "# Показ результатов\n",
        "data_df.show()\n"
      ]
    },
    {
      "cell_type": "code",
      "execution_count": null,
      "metadata": {
        "id": "SsIdF1IBgmlp"
      },
      "outputs": [],
      "source": []
    }
  ],
  "metadata": {
    "colab": {
      "provenance": []
    },
    "kernelspec": {
      "display_name": "Python 3",
      "name": "python3"
    },
    "language_info": {
      "name": "python"
    }
  },
  "nbformat": 4,
  "nbformat_minor": 0
}
